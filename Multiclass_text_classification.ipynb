{
 "cells": [
  {
   "cell_type": "code",
   "execution_count": 1,
   "id": "dd8155fc",
   "metadata": {},
   "outputs": [],
   "source": [
    "from sklearn.model_selection import train_test_split\n",
    "import pandas as pd\n",
    "from collections import Counter\n",
    "from nltk.stem import WordNetLemmatizer\n",
    "from sklearn.feature_extraction.text import TfidfVectorizer\n",
    "from nltk.tokenize import word_tokenize\n",
    "import string\n",
    "from sklearn.feature_selection import SelectKBest, chi2\n",
    "from sklearn.pipeline import Pipeline\n",
    "from sklearn.svm import SVC\n",
    "import nltk\n",
    "import matplotlib.pyplot as plt\n",
    "from sklearn.decomposition import TruncatedSVD\n",
    "from sklearn.pipeline import Pipeline\n",
    "import re\n",
    "from sklearn.linear_model import LogisticRegression\n",
    "from sklearn import metrics\n",
    "from sklearn.model_selection import RandomizedSearchCV\n",
    "from sklearn.naive_bayes import MultinomialNB\n",
    "from wordcloud import WordCloud\n",
    "from sklearn.dummy import DummyClassifier\n",
    "import numpy as np"
   ]
  },
  {
   "cell_type": "code",
   "execution_count": 2,
   "id": "a852cf05",
   "metadata": {},
   "outputs": [],
   "source": [
    "stop_words = set(nltk.corpus.stopwords.words('english'))"
   ]
  },
  {
   "cell_type": "code",
   "execution_count": 3,
   "id": "444e176b",
   "metadata": {},
   "outputs": [],
   "source": [
    "import warnings\n",
    "warnings.filterwarnings('ignore')"
   ]
  },
  {
   "cell_type": "code",
   "execution_count": 4,
   "id": "eb8ed0ec",
   "metadata": {},
   "outputs": [],
   "source": [
    "def plot_word_count(column_name, title):\n",
    "    # чертае броя на думите в всеки клас\n",
    "    plt.figure(figsize=(8,5))\n",
    "    plt.title(title)\n",
    "   \n",
    "    df.groupby('target')[column_name].sum().plot.bar()\n",
    "    plt.ylabel('Брой думи')\n",
    "    plt.xlabel('Класове')"
   ]
  },
  {
   "cell_type": "code",
   "execution_count": 5,
   "id": "468df70d",
   "metadata": {},
   "outputs": [],
   "source": [
    "def show_wordcloud(text, class_name):\n",
    "    # Генерира Word cloud от подадения текст  \n",
    "    w = WordCloud(stopwords=stop_words,width=1000,height=1000, min_font_size = 10) \\\n",
    "        .generate_from_text(text)\n",
    "    plt.title(class_name)\n",
    "\n",
    "    plt.imshow(w,interpolation=\"bilinear\")\n",
    "\n",
    "    plt.axis('off')\n",
    "    plt.tight_layout(pad=0)\n",
    "    plt.show()"
   ]
  },
  {
   "cell_type": "markdown",
   "id": "467b76ad",
   "metadata": {},
   "source": [
    "Класа CustomTokenizer реализира дейностите по предварителна обработка и почистването на текста - токенизация, премахване на stop думите, лематизация, премахване на числа и други думи които не биха били полезни."
   ]
  },
  {
   "cell_type": "code",
   "execution_count": 6,
   "id": "bade5997",
   "metadata": {},
   "outputs": [],
   "source": [
    "class CustomTokenizer(object):\n",
    "    def __init__(self):\n",
    "        self.lm = WordNetLemmatizer()\n",
    "    \n",
    "    def __call__(self,doc):\n",
    "        \n",
    "        def len_gt_1(token):\n",
    "            if len(token) > 1:\n",
    "                return True\n",
    "            return False\n",
    "\n",
    "        def not_digits_only(token):\n",
    "            return True if not token.isdigit() else False \n",
    "\n",
    "        def strip_punctiation(word):\n",
    "            return word.strip(string.punctuation)\n",
    "\n",
    "        def split_by_punctuation(word, split_by):\n",
    "            tmp = []\n",
    "            splitted = re.split(f\"[{split_by}]\",word)\n",
    "            for word in splitted:\n",
    "                if len_gt_1(word) and not_digits_only(word)  and word not in stop_words:\n",
    "                    # remove trailing and leading symbols '!\"#$%&\\'()*+,-./:;<=>?@[\\\\]^_`{|}~' \n",
    "                    stripped_token = strip_punctiation(word)\n",
    "                    lemmatized_token = self.lm.lemmatize(stripped_token,pos=\"v\")\n",
    "                    tmp.append(lemmatized_token)\n",
    "            return tmp\n",
    "\n",
    "        def is_email(txt):\n",
    "            return True if re.search(\"[a-zA-Z\\.\\d_-]+@[a-zA-Z\\.\\d_-]+\\.[a-zA-Z]+\", txt) else False\n",
    "        \n",
    "        \n",
    "        tokens = []\n",
    "        for token in nltk.word_tokenize(doc):\n",
    "            \n",
    "            # split by '!\"#$%&\\'()*+,-./:;<=>?@[\\\\]^_`{|}~'\n",
    "            punct = \"#\\\\/:,\\.+_=@|?-\"\n",
    "            stripped_token = strip_punctiation(token.lower())\n",
    "\n",
    "            if is_email(stripped_token) or stripped_token.startswith('0x'):\n",
    "                continue\n",
    "            if re.search(f\"[{punct}]\",stripped_token):\n",
    "                tokens_after_split = split_by_punctuation(stripped_token, punct)\n",
    "                \n",
    "                tokens.extend(tokens_after_split)\n",
    "            \n",
    "        tokens = [self.lm.lemmatize(token,pos=\"v\") for token in tokens if len_gt_1(token) and not_digits_only(token) and token not in stop_words and not re.match('x\\d+',stripped_token)]\n",
    "        return tokens\n",
    "        "
   ]
  },
  {
   "cell_type": "code",
   "execution_count": 7,
   "id": "4a3670fb",
   "metadata": {},
   "outputs": [],
   "source": [
    "np.random.seed(4)"
   ]
  },
  {
   "cell_type": "markdown",
   "id": "be175f8e",
   "metadata": {},
   "source": [
    "# Анализ и предварителна обработка на данните"
   ]
  },
  {
   "cell_type": "markdown",
   "id": "8f96ed3e",
   "metadata": {},
   "source": [
    "Зареждане на данните"
   ]
  },
  {
   "cell_type": "code",
   "execution_count": 8,
   "id": "ec661420",
   "metadata": {},
   "outputs": [],
   "source": [
    "df = pd.read_csv('data/data.csv')"
   ]
  },
  {
   "cell_type": "markdown",
   "id": "e4d167ef",
   "metadata": {},
   "source": [
    "Размер на данните"
   ]
  },
  {
   "cell_type": "code",
   "execution_count": 9,
   "id": "90c0f0cc",
   "metadata": {},
   "outputs": [
    {
     "data": {
      "text/plain": [
       "(984, 6)"
      ]
     },
     "execution_count": 9,
     "metadata": {},
     "output_type": "execute_result"
    }
   ],
   "source": [
    "df.shape"
   ]
  },
  {
   "cell_type": "markdown",
   "id": "18c68542",
   "metadata": {},
   "source": [
    "Първоначалните данни преди обработка"
   ]
  },
  {
   "cell_type": "code",
   "execution_count": 10,
   "id": "cab21371",
   "metadata": {},
   "outputs": [
    {
     "data": {
      "text/html": [
       "<div>\n",
       "<style scoped>\n",
       "    .dataframe tbody tr th:only-of-type {\n",
       "        vertical-align: middle;\n",
       "    }\n",
       "\n",
       "    .dataframe tbody tr th {\n",
       "        vertical-align: top;\n",
       "    }\n",
       "\n",
       "    .dataframe thead th {\n",
       "        text-align: right;\n",
       "    }\n",
       "</style>\n",
       "<table border=\"1\" class=\"dataframe\">\n",
       "  <thead>\n",
       "    <tr style=\"text-align: right;\">\n",
       "      <th></th>\n",
       "      <th>title</th>\n",
       "      <th>link</th>\n",
       "      <th>sub_tag</th>\n",
       "      <th>tags</th>\n",
       "      <th>content</th>\n",
       "      <th>target</th>\n",
       "    </tr>\n",
       "  </thead>\n",
       "  <tbody>\n",
       "    <tr>\n",
       "      <th>0</th>\n",
       "      <td>Transatlantic ping faster than sending a pixel...</td>\n",
       "      <td>https://superuser.com/questions/419070/transat...</td>\n",
       "      <td>networking</td>\n",
       "      <td>networking,graphics-card,ip,bandwidth</td>\n",
       "      <td>854 279 John Carmack tweeted, I can send an I...</td>\n",
       "      <td>network</td>\n",
       "    </tr>\n",
       "    <tr>\n",
       "      <th>1</th>\n",
       "      <td>Did I just get hacked?</td>\n",
       "      <td>https://superuser.com/questions/1034137/did-i-...</td>\n",
       "      <td>networking</td>\n",
       "      <td>linux,networking,trojan</td>\n",
       "      <td>507 311 Want to improve this post? Provide de...</td>\n",
       "      <td>network</td>\n",
       "    </tr>\n",
       "    <tr>\n",
       "      <th>2</th>\n",
       "      <td>Test if a port on a remote system is reachable...</td>\n",
       "      <td>https://superuser.com/questions/621870/test-if...</td>\n",
       "      <td>networking</td>\n",
       "      <td>linux,networking,port</td>\n",
       "      <td>460 200 In the old days, we used telnet to se...</td>\n",
       "      <td>network</td>\n",
       "    </tr>\n",
       "  </tbody>\n",
       "</table>\n",
       "</div>"
      ],
      "text/plain": [
       "                                               title  \\\n",
       "0  Transatlantic ping faster than sending a pixel...   \n",
       "1                             Did I just get hacked?   \n",
       "2  Test if a port on a remote system is reachable...   \n",
       "\n",
       "                                                link     sub_tag  \\\n",
       "0  https://superuser.com/questions/419070/transat...  networking   \n",
       "1  https://superuser.com/questions/1034137/did-i-...  networking   \n",
       "2  https://superuser.com/questions/621870/test-if...  networking   \n",
       "\n",
       "                                    tags  \\\n",
       "0  networking,graphics-card,ip,bandwidth   \n",
       "1                linux,networking,trojan   \n",
       "2                  linux,networking,port   \n",
       "\n",
       "                                             content   target  \n",
       "0   854 279 John Carmack tweeted, I can send an I...  network  \n",
       "1   507 311 Want to improve this post? Provide de...  network  \n",
       "2   460 200 In the old days, we used telnet to se...  network  "
      ]
     },
     "execution_count": 10,
     "metadata": {},
     "output_type": "execute_result"
    }
   ],
   "source": [
    "df.head(3)"
   ]
  },
  {
   "cell_type": "markdown",
   "id": "8a206c3d",
   "metadata": {},
   "source": [
    "Изчисляване на броя на думите във всеки пример преди и след обработката на примера"
   ]
  },
  {
   "cell_type": "code",
   "execution_count": 11,
   "id": "07ebf030",
   "metadata": {
    "scrolled": true
   },
   "outputs": [],
   "source": [
    "tokenizer =CustomTokenizer()\n",
    "#събирена на всички колони в една, която ще служи при последващите операци?\n",
    "df['all_text_columns'] = df['title'] + \" \" + df['sub_tag'] + \" \" + df['tags'] + \" \" + df['content']\n",
    "\n",
    "# Обаботената версия на съответния текст на пример \n",
    "df['tokenized_text'] = df['all_text_columns'].map(lambda x: \" \".join(tokenizer(x)))\n",
    "\n",
    "# броя на думите във всеки пример преди почистването на данните\n",
    "df['word_count_non_preprocessed'] = df['all_text_columns'].str.split().str.len()\n",
    "\n",
    "# броя на думите във всеки пример след почистването на данните\n",
    "df['word_count_preprocessed'] = df['tokenized_text'].str.split().str.len()"
   ]
  },
  {
   "cell_type": "code",
   "execution_count": 12,
   "id": "f2a50c17",
   "metadata": {},
   "outputs": [],
   "source": [
    "# запазване на новите данни\n",
    "df.to_csv('data/data_final.csv')"
   ]
  },
  {
   "cell_type": "code",
   "execution_count": 13,
   "id": "c7e98836",
   "metadata": {},
   "outputs": [
    {
     "data": {
      "text/html": [
       "<div>\n",
       "<style scoped>\n",
       "    .dataframe tbody tr th:only-of-type {\n",
       "        vertical-align: middle;\n",
       "    }\n",
       "\n",
       "    .dataframe tbody tr th {\n",
       "        vertical-align: top;\n",
       "    }\n",
       "\n",
       "    .dataframe thead th {\n",
       "        text-align: right;\n",
       "    }\n",
       "</style>\n",
       "<table border=\"1\" class=\"dataframe\">\n",
       "  <thead>\n",
       "    <tr style=\"text-align: right;\">\n",
       "      <th></th>\n",
       "      <th>title</th>\n",
       "      <th>link</th>\n",
       "      <th>sub_tag</th>\n",
       "      <th>tags</th>\n",
       "      <th>content</th>\n",
       "      <th>target</th>\n",
       "      <th>all_text_columns</th>\n",
       "      <th>tokenized_text</th>\n",
       "      <th>word_count_non_preprocessed</th>\n",
       "      <th>word_count_preprocessed</th>\n",
       "    </tr>\n",
       "  </thead>\n",
       "  <tbody>\n",
       "    <tr>\n",
       "      <th>0</th>\n",
       "      <td>Transatlantic ping faster than sending a pixel...</td>\n",
       "      <td>https://superuser.com/questions/419070/transat...</td>\n",
       "      <td>networking</td>\n",
       "      <td>networking,graphics-card,ip,bandwidth</td>\n",
       "      <td>854 279 John Carmack tweeted, I can send an I...</td>\n",
       "      <td>network</td>\n",
       "      <td>Transatlantic ping faster than sending a pixel...</td>\n",
       "      <td>graphics card graphics card house quarter seco...</td>\n",
       "      <td>2145</td>\n",
       "      <td>54</td>\n",
       "    </tr>\n",
       "    <tr>\n",
       "      <th>1</th>\n",
       "      <td>Did I just get hacked?</td>\n",
       "      <td>https://superuser.com/questions/1034137/did-i-...</td>\n",
       "      <td>networking</td>\n",
       "      <td>linux,networking,trojan</td>\n",
       "      <td>507 311 Want to improve this post? Provide de...</td>\n",
       "      <td>network</td>\n",
       "      <td>Did I just get hacked? networking linux,networ...</td>\n",
       "      <td>auth log debian armhf pam unix uid euid tty ss...</td>\n",
       "      <td>6548</td>\n",
       "      <td>475</td>\n",
       "    </tr>\n",
       "    <tr>\n",
       "      <th>2</th>\n",
       "      <td>Test if a port on a remote system is reachable...</td>\n",
       "      <td>https://superuser.com/questions/621870/test-if...</td>\n",
       "      <td>networking</td>\n",
       "      <td>linux,networking,port</td>\n",
       "      <td>460 200 In the old days, we used telnet to se...</td>\n",
       "      <td>network</td>\n",
       "      <td>Test if a port on a remote system is reachable...</td>\n",
       "      <td>apt get dev tcp host port dev udp host port xe...</td>\n",
       "      <td>3193</td>\n",
       "      <td>178</td>\n",
       "    </tr>\n",
       "  </tbody>\n",
       "</table>\n",
       "</div>"
      ],
      "text/plain": [
       "                                               title  \\\n",
       "0  Transatlantic ping faster than sending a pixel...   \n",
       "1                             Did I just get hacked?   \n",
       "2  Test if a port on a remote system is reachable...   \n",
       "\n",
       "                                                link     sub_tag  \\\n",
       "0  https://superuser.com/questions/419070/transat...  networking   \n",
       "1  https://superuser.com/questions/1034137/did-i-...  networking   \n",
       "2  https://superuser.com/questions/621870/test-if...  networking   \n",
       "\n",
       "                                    tags  \\\n",
       "0  networking,graphics-card,ip,bandwidth   \n",
       "1                linux,networking,trojan   \n",
       "2                  linux,networking,port   \n",
       "\n",
       "                                             content   target  \\\n",
       "0   854 279 John Carmack tweeted, I can send an I...  network   \n",
       "1   507 311 Want to improve this post? Provide de...  network   \n",
       "2   460 200 In the old days, we used telnet to se...  network   \n",
       "\n",
       "                                    all_text_columns  \\\n",
       "0  Transatlantic ping faster than sending a pixel...   \n",
       "1  Did I just get hacked? networking linux,networ...   \n",
       "2  Test if a port on a remote system is reachable...   \n",
       "\n",
       "                                      tokenized_text  \\\n",
       "0  graphics card graphics card house quarter seco...   \n",
       "1  auth log debian armhf pam unix uid euid tty ss...   \n",
       "2  apt get dev tcp host port dev udp host port xe...   \n",
       "\n",
       "   word_count_non_preprocessed  word_count_preprocessed  \n",
       "0                         2145                       54  \n",
       "1                         6548                      475  \n",
       "2                         3193                      178  "
      ]
     },
     "execution_count": 13,
     "metadata": {},
     "output_type": "execute_result"
    }
   ],
   "source": [
    "df.head(3)"
   ]
  },
  {
   "cell_type": "markdown",
   "id": "f25bd889",
   "metadata": {},
   "source": [
    "Графики на общия брой думи във всеки клас преди и след обработката на примерите"
   ]
  },
  {
   "cell_type": "code",
   "execution_count": 14,
   "id": "d3eb6ae7",
   "metadata": {},
   "outputs": [
    {
     "data": {
      "image/png": "[encoded data removed]",
      "text/plain": [
       "<Figure size 576x360 with 1 Axes>"
      ]
     },
     "metadata": {
      "needs_background": "light"
     },
     "output_type": "display_data"
    },
    {
     "data": {
      "image/png": "[encoded data removed]",
      "text/plain": [
       "<Figure size 576x360 with 1 Axes>"
      ]
     },
     "metadata": {
      "needs_background": "light"
     },
     "output_type": "display_data"
    }
   ],
   "source": [
    "plot_word_count('word_count_non_preprocessed','Брой думи в клас без обработка на текстаWord count by class withot preuprcessing')\n",
    "plot_word_count('word_count_preprocessed','Брой думи в клас с обработка на текста')"
   ]
  },
  {
   "cell_type": "markdown",
   "id": "abcb3380",
   "metadata": {},
   "source": [
    "Разпределение на примерите по класове"
   ]
  },
  {
   "cell_type": "code",
   "execution_count": 15,
   "id": "4062546b",
   "metadata": {},
   "outputs": [
    {
     "data": {
      "text/plain": [
       "Text(0.5, 0, 'Класове')"
      ]
     },
     "execution_count": 15,
     "metadata": {},
     "output_type": "execute_result"
    },
    {
     "data": {
      "image/png": "[encoded data removed]",
      "text/plain": [
       "<Figure size 720x360 with 1 Axes>"
      ]
     },
     "metadata": {
      "needs_background": "light"
     },
     "output_type": "display_data"
    }
   ],
   "source": [
    "plt.figure(figsize=(10,5))\n",
    "plt.title('Class')\n",
    "df.groupby('target').content.apply(lambda x : len(x)).plot.bar()\n",
    "plt.ylabel('Брой примери в клас')\n",
    "plt.xlabel(\"Класове\")"
   ]
  },
  {
   "cell_type": "markdown",
   "id": "30a37a10",
   "metadata": {},
   "source": [
    "Превръщане на номиналните стойности в числа"
   ]
  },
  {
   "cell_type": "code",
   "execution_count": 16,
   "id": "1583ec30",
   "metadata": {},
   "outputs": [
    {
     "name": "stdout",
     "output_type": "stream",
     "text": [
      "Класове - 'network, os, programming, security, database'\n",
      "{'network': 0, 'os': 1, 'programming': 2, 'security': 3, 'database': 4}\n",
      "{0: 'network', 1: 'os', 2: 'programming', 3: 'security', 4: 'database'}\n"
     ]
    }
   ],
   "source": [
    "df['target_numeric'] = pd.factorize(df['target'])[0]\n",
    "\n",
    "class_id_df = df[['target','target_numeric']].drop_duplicates()\n",
    "\n",
    "class_to_id = dict(class_id_df.values)\n",
    "id_to_class= dict(df[['target_numeric','target']].values)\n",
    "labels = df['target_numeric']\n",
    "class_names = df.target.unique()\n",
    "print(f\"Класове - '{', '.join(class_names)}'\")\n",
    "print(class_to_id)\n",
    "print(id_to_class)"
   ]
  },
  {
   "cell_type": "markdown",
   "id": "30f9f49b",
   "metadata": {},
   "source": [
    "При разделянето на данните, 80% се използват за трениране, 20% за крайната оценка на моделите."
   ]
  },
  {
   "cell_type": "code",
   "execution_count": 17,
   "id": "909ad42e",
   "metadata": {},
   "outputs": [],
   "source": [
    "X_train,X_test, y_train, y_test = train_test_split(df['all_text_columns'], \n",
    "                                                   labels,\n",
    "                                                   random_state=1,\n",
    "                                                   stratify=labels,\n",
    "                                                   test_size=0.2,\n",
    "                                                   shuffle=True)"
   ]
  },
  {
   "cell_type": "code",
   "execution_count": 18,
   "id": "39e3778c",
   "metadata": {},
   "outputs": [
    {
     "name": "stdout",
     "output_type": "stream",
     "text": [
      "Трениращо множество (787,)\n",
      "Тестващо множество (197,)\n"
     ]
    }
   ],
   "source": [
    "print(\"Трениращо множество \" +str(X_train.shape))\n",
    "print(\"Тестващо множество \" + str(X_test.shape))"
   ]
  },
  {
   "cell_type": "code",
   "execution_count": 19,
   "id": "c502b122",
   "metadata": {},
   "outputs": [],
   "source": [
    "tf = TfidfVectorizer(ngram_range=(1,2),tokenizer=tokenizer)\n",
    "features = tf.fit_transform(X_train)\n"
   ]
  },
  {
   "cell_type": "code",
   "execution_count": 20,
   "id": "d3430184",
   "metadata": {},
   "outputs": [
    {
     "name": "stdout",
     "output_type": "stream",
     "text": [
      "Брой атрибути 55106\n"
     ]
    }
   ],
   "source": [
    "print(f\"Брой атрибути {len(tf.get_feature_names())}\")"
   ]
  },
  {
   "cell_type": "markdown",
   "id": "f14ee7d8",
   "metadata": {},
   "source": [
    "За всеки клас се визуализира Word cloud от 10-те\n",
    "най-важни думи за всеки клас. За да се изчисли дали дадена дума е значима за класа се използва $\\chi^2$ статистика"
   ]
  },
  {
   "cell_type": "code",
   "execution_count": 21,
   "id": "b64ccd24",
   "metadata": {},
   "outputs": [],
   "source": [
    "# selecter = SelectKBest(score_func=chi2,k=12)\n",
    "# selecter.fit_transform(features,y_train)\n",
    "# selecter.get_feature_names_out()"
   ]
  },
  {
   "cell_type": "code",
   "execution_count": 22,
   "id": "f93a7f64",
   "metadata": {},
   "outputs": [
    {
     "data": {
      "image/png": "[encoded data removed]",
      "text/plain": [
       "<Figure size 432x288 with 1 Axes>"
      ]
     },
     "metadata": {
      "needs_background": "light"
     },
     "output_type": "display_data"
    },
    {
     "name": "stdout",
     "output_type": "stream",
     "text": [
      "\t\tdatabase\n",
      "1-грами: migration, databases, azure, table, graph, firebase, schema, sql, id, database\n",
      "2-грами: database connection, table name, relational database, sql server, azure sql, database schema, sql database, database performance, database design, graph databases\n"
     ]
    },
    {
     "data": {
      "image/png": "[encoded data removed]",
      "text/plain": [
       "<Figure size 432x288 with 1 Axes>"
      ]
     },
     "metadata": {
      "needs_background": "light"
     },
     "output_type": "display_data"
    },
    {
     "name": "stdout",
     "output_type": "stream",
     "text": [
      "\t\tnetwork\n",
      "1-грами: home, adapter, interface, wire, wi, fi, printer, wireless, powerline, network\n",
      "2-грами: network powerline, network adapter, network share, wire network, wi fi, network interface, network printer, home network, wireless network, powerline network\n"
     ]
    },
    {
     "data": {
      "image/png": "[encoded data removed]",
      "text/plain": [
       "<Figure size 432x288 with 1 Axes>"
      ]
     },
     "metadata": {
      "needs_background": "light"
     },
     "output_type": "display_data"
    },
    {
     "name": "stdout",
     "output_type": "stream",
     "text": [
      "\t\tos\n",
      "1-грами: ctrl, windows, operate, exe, subsystem, arch, mint, mnt, kali, linux\n",
      "2-грами: linux windows, mnt mnt, bite bite, operate systems, subsystem linux, windows subsystem, windows windows, arch linux, linux mint, kali linux\n"
     ]
    },
    {
     "data": {
      "image/png": "[encoded data removed]",
      "text/plain": [
       "<Figure size 432x288 with 1 Axes>"
      ]
     },
     "metadata": {
      "needs_background": "light"
     },
     "output_type": "display_data"
    },
    {
     "name": "stdout",
     "output_type": "stream",
     "text": [
      "\t\tprogramming\n",
      "1-грами: observable, dynamic, languages, type, reactive, functional, generic, linear, constraint, program\n",
      "2-грами: dynamic program, network program, meta program, program languages, console log, reactive program, functional program, linear program, constraint program, generic program\n"
     ]
    },
    {
     "data": {
      "image/png": "[encoded data removed]",
      "text/plain": [
       "<Figure size 432x288 with 1 Axes>"
      ]
     },
     "metadata": {
      "needs_background": "light"
     },
     "output_type": "display_data"
    },
    {
     "name": "stdout",
     "output_type": "stream",
     "text": [
      "\t\tsecurity\n",
      "1-грами: anti, ms, policy, physical, warn, essentials, norton, domain, internet, security\n",
      "2-грами: windows security, security group, security policy, norton internet, ms security, domain security, physical security, security essentials, security warn, internet security\n"
     ]
    }
   ],
   "source": [
    "N = 10\n",
    "for cls,cls_id in sorted(class_to_id.items()):\n",
    "    features_chi2 = chi2(features,y_train == cls_id)\n",
    "    indices = np.argsort(features_chi2[0])\n",
    "    feature_names = np.array(tf.get_feature_names_out())[indices]\n",
    "    unigram =[v for v in feature_names  if len(v.split(\" \")) ==1]\n",
    "    bigram = [v for v in feature_names if len(v.split(\" \")) == 2]\n",
    "    grams = [word for word in feature_names if len(word.split(\" \")) in [1,2]]\n",
    "    \n",
    "    show_wordcloud(\" \".join(grams[-N:]),cls)\n",
    "    print(\"\\t\\t%s\" %(cls))\n",
    "    print(\"1-грами: %s\" % \", \".join(unigram[-N:]))\n",
    "    print(\"2-грами: %s\" % \", \".join(bigram[-N:]))\n",
    "    "
   ]
  },
  {
   "cell_type": "code",
   "execution_count": 23,
   "id": "a7d93a0f",
   "metadata": {},
   "outputs": [],
   "source": [
    "def build_pipeline(model,feature_select=True):\n",
    "    p = [\n",
    "        ('vectorizer', TfidfVectorizer(tokenizer=CustomTokenizer())),\n",
    "        ('feature_selection', SelectKBest(score_func=chi2,k=900)),\n",
    "        ('dim_reduction', TruncatedSVD()),\n",
    "        ('classifier',model)\n",
    "    ]\n",
    "    # TruncatedSVD не се изпорзва за MultinomialNB\n",
    "    if \"MultinomialNB\" in str(model):\n",
    "        p = p[:2] + p[3:] \n",
    "    if not feature_select:\n",
    "        p = p[:1] + p[2:]\n",
    "    pipeline = Pipeline(p)\n",
    "\n",
    "        \n",
    "    return pipeline"
   ]
  },
  {
   "cell_type": "code",
   "execution_count": 24,
   "id": "f025fd81",
   "metadata": {},
   "outputs": [],
   "source": [
    "def clf_scores(model,y_true,preds,class_names):\n",
    "    # По даден модел изчислява оценките Accuracy,Precision,Recall, F1\n",
    "    model_name = str(model)    \n",
    "    model_name= model_name[:model_name.index('(')]\n",
    "\n",
    "    accuracy = metrics.accuracy_score(y_true, preds)\n",
    "    precision = metrics.precision_score(y_true, preds,average='macro')\n",
    "    recall = metrics.recall_score(y_true, preds,average='macro')\n",
    "    f1 = metrics.f1_score(y_true, preds,average='macro')\n",
    "    print(f\"\\t\\t\\t\\t{model_name}\")\n",
    "    print(metrics.classification_report(y_true,preds,target_names=class_names))\n",
    "    return [model_name,np.round(accuracy,2),np.round(precision,2),np.round(recall,2), np.round(f1,2)]"
   ]
  },
  {
   "cell_type": "markdown",
   "id": "ee84e416",
   "metadata": {},
   "source": [
    "# Обучаване на модели с крос валидация и настройка на хиперпараметри"
   ]
  },
  {
   "cell_type": "code",
   "execution_count": 25,
   "id": "f78b326f",
   "metadata": {},
   "outputs": [],
   "source": [
    "final_models = {\n",
    "    \"names\": [],\n",
    "    \"Accuracy\": [],\n",
    "    \"Macro-Precision\": [],\n",
    "    \"Macro-Recall\": [],\n",
    "    \"Macro-F1\": []\n",
    "}\n",
    "\n",
    "def add_to_dict(c1):\n",
    "    final_models['names'].append(c1[0])\n",
    "    final_models['Accuracy'].append(c1[1])\n",
    "    final_models['Macro-Precision'].append(c1[2])\n",
    "    final_models['Macro-Recall'].append(c1[2])\n",
    "    final_models['Macro-F1'].append(c1[3])\n"
   ]
  },
  {
   "cell_type": "code",
   "execution_count": 26,
   "id": "7dc98734",
   "metadata": {},
   "outputs": [],
   "source": [
    "def build_grid(clfs_hyperparmans_grid={}, dim_reduction =True):\n",
    "    # създава решетка от хиперпараметри за класификатор\n",
    "    grid = {\n",
    "        'vectorizer__ngram_range': [(1,1), (1,2)],\n",
    "        'vectorizer__max_features': [1500], #,1000,800,None],\n",
    "        'vectorizer__min_df': [1,2],\n",
    "        \"feature_selection__k\": [500], #,800,900],\n",
    "    }\n",
    "    if dim_reduction:\n",
    "         grid[\"dim_reduction__n_components\"] = [100 ] #,300,500,800],\n",
    "        \n",
    "    for item in clfs_hyperparmans_grid.items():\n",
    "        grid[item[0]] = item[1]\n",
    "    return grid\n",
    "    "
   ]
  },
  {
   "cell_type": "code",
   "execution_count": 27,
   "id": "73f7063d",
   "metadata": {},
   "outputs": [],
   "source": [
    "# Хиперпараметри за Suppor Vector Machine\n",
    "\n",
    "svc_hyperparams_grid = {\n",
    "    'classifier__gamma':[0.001, 0.0001,0,1] ,\n",
    "    'classifier__kernel':[\"linear\", \"rbf\",],\n",
    "    'classifier__C': [1, 10, 100, 1000]\n",
    "}\n",
    " \n",
    "# Хиперпараметри за Logistic Regression\n",
    "lr_hyperparams_grid = {\n",
    "    \"classifier__C\": [100 ,10, 1.0, 0.1, 0.01],\n",
    "    \"classifier__solver\": ['newton-cg' , 'lbfgs', 'saga']\n",
    "    \n",
    "}\n",
    "\n",
    "# Хиперпараметри за Multinomial Naive Bayes\n",
    "nb_hyperparams_grid = {\n",
    "    \"classifier__alpha\": [0]  + list(np.linspace(0.01, 1.0,5)),  \n",
    "}"
   ]
  },
  {
   "cell_type": "code",
   "execution_count": 28,
   "id": "7f472544",
   "metadata": {},
   "outputs": [
    {
     "data": {
      "text/plain": [
       "{'vectorizer__ngram_range': [(1, 1), (1, 2)],\n",
       " 'vectorizer__max_features': [1500],\n",
       " 'vectorizer__min_df': [1, 2],\n",
       " 'feature_selection__k': [500],\n",
       " 'dim_reduction__n_components': [100],\n",
       " 'classifier__C': [100, 10, 1.0, 0.1, 0.01],\n",
       " 'classifier__solver': ['newton-cg', 'lbfgs', 'saga']}"
      ]
     },
     "execution_count": 28,
     "metadata": {},
     "output_type": "execute_result"
    }
   ],
   "source": [
    "baseline_grid = build_grid()\n",
    "svc_grid = build_grid(svc_hyperparams_grid)\n",
    "lr_grid = build_grid(lr_hyperparams_grid)\n",
    "nb_grid = build_grid(nb_hyperparams_grid,dim_reduction=False)\n",
    "lr_grid"
   ]
  },
  {
   "cell_type": "code",
   "execution_count": 30,
   "id": "3bbb990e",
   "metadata": {},
   "outputs": [
    {
     "name": "stdout",
     "output_type": "stream",
     "text": [
      "DummyClassifier(strategy='most_frequent')\n",
      "Fitting 10 folds for each of 4 candidates, totalling 40 fits\n",
      "MultinomialNB()\n",
      "Fitting 10 folds for each of 10 candidates, totalling 100 fits\n",
      "SVC()\n",
      "Fitting 10 folds for each of 10 candidates, totalling 100 fits\n",
      "LogisticRegression(multi_class='multinomial')\n",
      "Fitting 10 folds for each of 10 candidates, totalling 100 fits\n"
     ]
    }
   ],
   "source": [
    "models = [\n",
    "    [DummyClassifier(strategy=\"most_frequent\"),baseline_grid],\n",
    "    [MultinomialNB(), nb_grid],\n",
    "    [SVC(),svc_grid],\n",
    "    [LogisticRegression(multi_class=\"multinomial\"),lr_grid]\n",
    "]\n",
    "\n",
    "CV=10\n",
    "pipelines = []\n",
    "for pair in models:\n",
    "    print(str(pair[0]))\n",
    "    model_pipeline = build_pipeline(pair[0])\n",
    "\n",
    "    model_rcv = RandomizedSearchCV(model_pipeline, param_distributions=pair[1],cv=CV,verbose=8, n_iter=10,n_jobs=4)\n",
    "    model_rcv.fit(X_train,y_train)\n",
    "    pipelines.append((str(pair[0]), model_rcv))\n",
    "\n",
    "# svc_pipeline = build_pipeline(svc)"
   ]
  },
  {
   "cell_type": "markdown",
   "id": "ac519e47",
   "metadata": {},
   "source": [
    "# Резултати"
   ]
  },
  {
   "cell_type": "code",
   "execution_count": 31,
   "id": "cfd60cf4",
   "metadata": {},
   "outputs": [
    {
     "name": "stdout",
     "output_type": "stream",
     "text": [
      "\t\t\t\tDummyClassifier\n",
      "              precision    recall  f1-score   support\n",
      "\n",
      "     network       0.20      1.00      0.34        40\n",
      "          os       0.00      0.00      0.00        40\n",
      " programming       0.00      0.00      0.00        40\n",
      "    security       0.00      0.00      0.00        37\n",
      "    database       0.00      0.00      0.00        40\n",
      "\n",
      "    accuracy                           0.20       197\n",
      "   macro avg       0.04      0.20      0.07       197\n",
      "weighted avg       0.04      0.20      0.07       197\n",
      "\n",
      "\t\t\t\tMultinomialNB\n",
      "              precision    recall  f1-score   support\n",
      "\n",
      "     network       0.97      0.93      0.95        40\n",
      "          os       0.89      1.00      0.94        40\n",
      " programming       0.97      0.95      0.96        40\n",
      "    security       1.00      0.95      0.97        37\n",
      "    database       1.00      1.00      1.00        40\n",
      "\n",
      "    accuracy                           0.96       197\n",
      "   macro avg       0.97      0.96      0.96       197\n",
      "weighted avg       0.97      0.96      0.96       197\n",
      "\n",
      "\t\t\t\tSVC\n",
      "              precision    recall  f1-score   support\n",
      "\n",
      "     network       0.97      0.88      0.92        40\n",
      "          os       0.87      1.00      0.93        40\n",
      " programming       0.95      0.97      0.96        40\n",
      "    security       1.00      0.89      0.94        37\n",
      "    database       0.98      1.00      0.99        40\n",
      "\n",
      "    accuracy                           0.95       197\n",
      "   macro avg       0.95      0.95      0.95       197\n",
      "weighted avg       0.95      0.95      0.95       197\n",
      "\n",
      "\t\t\t\tLogisticRegression\n",
      "              precision    recall  f1-score   support\n",
      "\n",
      "     network       0.97      0.88      0.92        40\n",
      "          os       0.89      1.00      0.94        40\n",
      " programming       0.95      0.97      0.96        40\n",
      "    security       1.00      0.92      0.96        37\n",
      "    database       0.98      1.00      0.99        40\n",
      "\n",
      "    accuracy                           0.95       197\n",
      "   macro avg       0.96      0.95      0.95       197\n",
      "weighted avg       0.96      0.95      0.95       197\n",
      "\n"
     ]
    }
   ],
   "source": [
    "final_clfs = []\n",
    "for pipe in pipelines:\n",
    "    model = pipe[1].best_estimator_    \n",
    "    model.fit(X_train,y_train)\n",
    "    final_clfs.append(model)\n",
    "    preds = model.predict(X_test)\n",
    "    model_scores = clf_scores(model[-1],y_test,preds,class_names)\n",
    "    add_to_dict(model_scores)"
   ]
  },
  {
   "cell_type": "code",
   "execution_count": 32,
   "id": "d8ea86fe",
   "metadata": {},
   "outputs": [
    {
     "data": {
      "text/html": [
       "<div>\n",
       "<style scoped>\n",
       "    .dataframe tbody tr th:only-of-type {\n",
       "        vertical-align: middle;\n",
       "    }\n",
       "\n",
       "    .dataframe tbody tr th {\n",
       "        vertical-align: top;\n",
       "    }\n",
       "\n",
       "    .dataframe thead th {\n",
       "        text-align: right;\n",
       "    }\n",
       "</style>\n",
       "<table border=\"1\" class=\"dataframe\">\n",
       "  <thead>\n",
       "    <tr style=\"text-align: right;\">\n",
       "      <th></th>\n",
       "      <th>Accuracy</th>\n",
       "      <th>Macro-Precision</th>\n",
       "      <th>Macro-Recall</th>\n",
       "      <th>Macro-F1</th>\n",
       "    </tr>\n",
       "  </thead>\n",
       "  <tbody>\n",
       "    <tr>\n",
       "      <th>DummyClassifier</th>\n",
       "      <td>0.20</td>\n",
       "      <td>0.04</td>\n",
       "      <td>0.04</td>\n",
       "      <td>0.20</td>\n",
       "    </tr>\n",
       "    <tr>\n",
       "      <th>MultinomialNB</th>\n",
       "      <td>0.96</td>\n",
       "      <td>0.97</td>\n",
       "      <td>0.97</td>\n",
       "      <td>0.96</td>\n",
       "    </tr>\n",
       "    <tr>\n",
       "      <th>SVC</th>\n",
       "      <td>0.95</td>\n",
       "      <td>0.95</td>\n",
       "      <td>0.95</td>\n",
       "      <td>0.95</td>\n",
       "    </tr>\n",
       "    <tr>\n",
       "      <th>LogisticRegression</th>\n",
       "      <td>0.95</td>\n",
       "      <td>0.96</td>\n",
       "      <td>0.96</td>\n",
       "      <td>0.95</td>\n",
       "    </tr>\n",
       "  </tbody>\n",
       "</table>\n",
       "</div>"
      ],
      "text/plain": [
       "                    Accuracy  Macro-Precision  Macro-Recall  Macro-F1\n",
       "DummyClassifier         0.20             0.04          0.04      0.20\n",
       "MultinomialNB           0.96             0.97          0.97      0.96\n",
       "SVC                     0.95             0.95          0.95      0.95\n",
       "LogisticRegression      0.95             0.96          0.96      0.95"
      ]
     },
     "execution_count": 32,
     "metadata": {},
     "output_type": "execute_result"
    }
   ],
   "source": [
    "models_df = pd.DataFrame(final_models,index=final_models['names'])\n",
    "models_df.drop(['names'],axis=1)"
   ]
  },
  {
   "cell_type": "code",
   "execution_count": 33,
   "id": "6feaaf6b",
   "metadata": {},
   "outputs": [
    {
     "name": "stdout",
     "output_type": "stream",
     "text": [
      "Model: DummyClassifier(strategy='most_frequent,\n",
      "\t Best score: 0.20331061343719573,\n",
      "\t Best params {'vectorizer__ngram_range': (1, 1), 'vectorizer__min_df': 1, 'vectorizer__max_features': 1500, 'feature_selection__k': 500, 'dim_reduction__n_components': 100}\n",
      "Model: MultinomialNB,\n",
      "\t Best score: 0.9415449529373581,\n",
      "\t Best params {'vectorizer__ngram_range': (1, 2), 'vectorizer__min_df': 1, 'vectorizer__max_features': 1500, 'feature_selection__k': 500, 'classifier__alpha': 0.7525}\n",
      "Model: SVC,\n",
      "\t Best score: 0.9377474845829277,\n",
      "\t Best params {'vectorizer__ngram_range': (1, 1), 'vectorizer__min_df': 1, 'vectorizer__max_features': 1500, 'feature_selection__k': 500, 'dim_reduction__n_components': 100, 'classifier__kernel': 'linear', 'classifier__gamma': 0.0001, 'classifier__C': 1}\n",
      "Model: LogisticRegression(multi_class='multinomial,\n",
      "\t Best score: 0.9415287244401169,\n",
      "\t Best params {'vectorizer__ngram_range': (1, 2), 'vectorizer__min_df': 1, 'vectorizer__max_features': 1500, 'feature_selection__k': 500, 'dim_reduction__n_components': 100, 'classifier__solver': 'lbfgs', 'classifier__C': 1.0}\n"
     ]
    }
   ],
   "source": [
    "for pipeline in pipelines:\n",
    "    print(f\"Model: {pipeline[0][:-2]},\\n\\t Best score: {pipeline[1].best_score_},\\n\\t Best params {str(pipeline[1].best_params_)}\")\n"
   ]
  },
  {
   "cell_type": "code",
   "execution_count": 34,
   "id": "0d8bd3b7",
   "metadata": {},
   "outputs": [],
   "source": [
    "os = \"\"\"\n",
    "We covered the Network Time Protocol Daemon a little in the article ‘https://www.linux.org/threads/lfcs-–-kerberos-authentication-centos7.39296/’, as well as in ‘https://www.linux.org/threads/lfcs-–-kerberos-authentication-ubuntu.39733/’.\n",
    "\n",
    "This article will go a little deeper and add in another Network Time Protocol other than NTP.\n",
    "\n",
    "\n",
    "Different Times\n",
    "\n",
    "Each system has different times. I’m not referring to each being a different time than others.\n",
    "\n",
    "Each system, especially Linux, has three different times:\n",
    "\n",
    "    Real-Time Clock (RTC)\n",
    "    Local Time\n",
    "    Universal Time\n",
    "\n",
    "The Real-Time Clock (RTC) is the time on the system that is controlled by an Integrated Circuit (IC) that keeps time. We see the RTC value on the BIOS screen showing date and time. The true value of the RTC doesn’t include any adjustments for the Time Zone.\n",
    "\n",
    "Looking at the Local Time, it is the adjusted time of the RTC that takes into consideration the Time Zone.\n",
    "\n",
    "Coordinated Universal Time (UTC) is the successor to the Greenwich Mean Time (GMT). This is the mean time by which we adjust the time by the Time Zone to get the real local time.\n",
    "\n",
    "Basically, NTP will adjust the UTC, which will then adjust the RTC on the system board. Once corrected, then the Local time will be changed according to the Time Zone settings. For example, in Figure 1 for CentOS, you can see the Time Zone is ‘America/Indiana/Indianapolis (EDT, -0400)’. The system reduces the RTC time (5:19 A.M.) by four hours (Time Zone adjustment), resulting in the local time being 1:19 A.M.\n",
    "\n",
    "Figure 1.jpg\n",
    "\n",
    "FIGURE 1\n",
    "\n",
    "Figure 2 shows the output for the same command on an Ubuntu system.\n",
    "\n",
    "Figure 2.jpg\n",
    "\n",
    "FIGURE 2\n",
    "\n",
    "To change your date and time manually from a terminal, you can use the command ‘date --set “yyyymmdd hh:ss”’.\n",
    "\n",
    "Network Time Protocol (NTP)\n",
    "\n",
    "The system manages the Network Time Protocol (NTP) with the Network Time Protocol Daemon (NTPD).\n",
    "\n",
    "For an easy way to determine if a system is using some type of time synchronization with a Time Server, is to run the command ‘timedatectl’. One line, on CentOS, in the output lists the status of ‘NTP Enabled’ and ‘NTP Synchronized’. The result is ‘yes’ or ‘no’. A system by default should not have NTP installed or enabled.\n",
    "\n",
    "For Ubuntu, the line is ‘System Clock Synchronized: ’. By default, it is ‘no’.\n",
    "\n",
    "On either system, you can check the service with the command ‘sudo systemctl status ntpd’. The result should be that the service is not found or inactive.\n",
    "\n",
    "To install the Network Time Protocol Daemon, use ‘sudo yum install ntp -y’ for CentOS and ‘sudo apt install ntp -y’ for Ubuntu.\n",
    "\n",
    "Once installed, you need to start the service, then enable it to start on system boot. A third command can check the status. Use the following commands for CentOS:\n",
    "\n",
    "sudo systemctl start ntpd\n",
    "sudo systemctl enable ntpd\n",
    "sudo systemctl status ntpd\n",
    "\n",
    "For Ubuntu, the commands are the same, except the service name:\n",
    "\n",
    "sudo systemctl start ntp\n",
    "sudo systemctl enable ntp\n",
    "sudo systemctl status ntp\n",
    "\n",
    "On either Operating System, you can check the configuration file located at ‘/etc/ntp.conf’. About halfway down the file should be lines similar to:\n",
    "\n",
    "pool 0.ubuntu.pool.ntp.org iburst\n",
    "pool 1.ubuntu.pool.ntp.org iburst\n",
    "pool 2.ubuntu.pool.ntp.org iburst\n",
    "pool 3.ubuntu.pool.ntp.org iburst\n",
    "\n",
    "For CentOS, instead of ‘pool’ it says ‘server’. The server's name does not contain ‘ubuntu’, but ‘centos’. These are the servers that are used to sync the time from the Internet when enabling NTP.\n",
    "\n",
    "The NTP service runs on UDP Port 123. You may need to open the firewall port if you have issues with time synchronization.\n",
    "\n",
    "Once you have the NTP Service running, you can see which server you are using as the NTP Server by using the command ‘nptq -p’. It shows a list of servers that begin with the default pool from the configuration file. The server with the asterisk (*) next to it is the one your system is using.\n",
    "\n",
    "You should notice a column that is listed as ‘poll’. The value should start out at 64 (seconds). The service checks the servers every 64 seconds for an update to the time. After time passes and the service determines that the time is not being updated, the polling time will increase by 64 seconds until it reaches 1024 (seconds).\n",
    "\n",
    "Another important column is the Stratum (st) column. The time servers at the highest point are atomic clocks, GPS clock, etc. These are Stratum 0 since the time is originating with them. A system that gets its time from these servers will become a Stratum 1 time system. As each system goes down the line, it adds one to the stratum number. The higher a number, maximum of 15, the more probable that the time is off from the original time server.\n",
    "\n",
    "To stop the Network Time Protocol Service, use the commands as follows: (using ‘ntp’ for Ubuntu and ‘ntpd’ for CentOS)\n",
    "\n",
    "sudo systemctl disable <service>\n",
    "sudo systemctl stop <service>\n",
    "\n",
    "The NTP service is good for systems that are not rebooted often, such as servers. For another option of a time service, try Chrony.\n",
    "\n",
    "Chrony\n",
    "\n",
    "Chrony is a replacement for the Network Time Protocol Daemon (NTPD). The Chrony service works faster and better on systems that are rebooted often, such as desktops.\n",
    "\n",
    "To install Chrony, use the command for CentOS:\n",
    "\n",
    "sudo yum install chrony -y\n",
    "\n",
    "For Ubuntu, use the following:\n",
    "\n",
    "sudo apt install chrony -y\n",
    "\n",
    "To start and enable the service on Ubuntu, use the following commands:\n",
    "\n",
    "sudo systemctl start chrony\n",
    "sudo systemctl enable chrony\n",
    "\n",
    "For CentOS, use:\n",
    "\n",
    "sudo systemctl start chronyd\n",
    "sudo systemctl enable chronyd\n",
    "\n",
    "The Chrony configuration file is found at ‘/etc/chrony.conf’ for CentOS and ‘/etc/chrony/chrony.conf’ for Ubuntu.\n",
    "\n",
    "The files should look very similar to the configuration file for NTP.\n",
    "\n",
    "To see the basic information about the time service, use the command ‘chronyc tracking’.\n",
    "\n",
    "If you want to see the actual servers you are pooling from and which system is the one currently being used, use the command ‘chronyc sources’. The asterisk (*) is the current server being used to sync time.\n",
    "\n",
    "Troubleshooting\n",
    "\n",
    "The main two points to check on when you have problems is that the service is started. The second is that DNS resolution is occurring.\n",
    "\n",
    "If you recall from the configuration files, the time servers are listed by name and not IP Address. If Domain Name resolution is not working, then the time synchronization cannot occur.\n",
    "\n",
    "If DNS Resolution is not happening, get that working. Restart the NTP or Chrony service and then retry the synchronization.\n",
    "\n",
    "Conclusion\n",
    "\n",
    "Getting all systems on the same time can be a very beneficial tool on a network. In this manner, all log files are synchronized by time on all systems. Having the times synced can help troubleshoot issues between systems.\n",
    "\n",
    "If some systems are off by a minute or more, there can be file sharing issues, etc.\n",
    "\n",
    "On some networks, it may be best to have one or two time servers. The desktop clients can update from these two by changing the server name in the configuration file. If we sync the local time servers from the Internet, and we then sync all desktops from these two systems, then the local network times should be synced perfectly for the administrator.\"\"\""
   ]
  },
  {
   "cell_type": "code",
   "execution_count": 35,
   "id": "5fca5766",
   "metadata": {},
   "outputs": [],
   "source": [
    "security=\"\"\"\n",
    "What is encryption?\n",
    "\n",
    "Encryption is a way of scrambling data so that only authorized parties can understand the information. In technical terms, it is the process of converting human-readable plaintext to incomprehensible text, also known as ciphertext. In simpler terms, encryption takes readable data and alters it so that it appears random. Encryption requires the use of a cryptographic key: a set of mathematical values that both the sender and the recipient of an encrypted message agree on.\n",
    "encryption example\n",
    "\n",
    "Although encrypted data appears random, encryption proceeds in a logical, predictable way, allowing a party that receives the encrypted data and possesses the right key to decrypt the data, turning it back into plaintext. Truly secure encryption will use keys complex enough that a third party is highly unlikely to decrypt or break the ciphertext by brute force — in other words, by guessing the key.\n",
    "\n",
    "Data can be encrypted \"at rest,\" when it is stored, or \"in transit,\" while it is being transmitted somewhere else.\n",
    "What is a key in cryptography?\n",
    "\n",
    "A cryptographic key is a string of characters used within an encryption algorithm for altering data so that it appears random. Like a physical key, it locks (encrypts) data so that only someone with the right key can unlock (decrypt) it.\n",
    "What are the different types of encryption?\n",
    "\n",
    "The two main kinds of encryption are symmetric encryption and asymmetric encryption. Asymmetric encryption is also known as public key encryption.\n",
    "\n",
    "In symmetric encryption, there is only one key, and all communicating parties use the same (secret) key for both encryption and decryption. In asymmetric, or public key, encryption, there are two keys: one key is used for encryption, and a different key is used for decryption. The decryption key is kept private (hence the \"private key\" name), while the encryption key is shared publicly, for anyone to use (hence the \"public key\" name). Asymmetric encryption is a foundational technology for TLS (often called SSL).\n",
    "Why is data encryption necessary?\n",
    "\n",
    "Privacy: Encryption ensures that no one can read communications or data at rest except the intended recipient or the rightful data owner. This prevents attackers, ad networks, Internet service providers, and in some cases governments from intercepting and reading sensitive data.\n",
    "\n",
    "Security: Encryption helps prevent data breaches, whether the data is in transit or at rest. If a corporate device is lost or stolen and its hard drive is properly encrypted, the data on that device will still be secure. Similarly, encrypted communications enable the communicating parties to exchange sensitive data without leaking the data.\n",
    "\n",
    "Data integrity: Encryption also helps prevent malicious behavior such as on-path attacks. When data is transmitted across the Internet, encryption (along with other integrity protections) ensures that what the recipient receives has not been tampered with on the way.\n",
    "\n",
    "Authentication: Public key encryption, among other things, can be used to establish that a website's owner owns the private key listed in the website's TLS certificate. This allows users of the website to be sure that they are connected to the real website (see What is public key encryption? to learn more).\n",
    "\n",
    "Regulations: For all these reasons, many industry and government regulations require companies that handle user data to keep that data encrypted. Examples of regulatory and compliance standards that require encryption include HIPAA, PCI-DSS, and the GDPR.\n",
    "What is an encryption algorithm?\n",
    "\n",
    "An encryption algorithm is the method used to transform data into ciphertext. An algorithm will use the encryption key in order to alter the data in a predictable way, so that even though the encrypted data will appear random, it can be turned back into plaintext by using the decryption key.\n",
    "What are some common encryption algorithms?\n",
    "\n",
    "Commonly used symmetric encryption algorithms include:\n",
    "\n",
    "    AES\n",
    "    3-DES\n",
    "    SNOW\n",
    "\n",
    "Commonly used asymmetric encryption algorithms include:\n",
    "\n",
    "    RSA\n",
    "    Elliptic curve cryptography\n",
    "\n",
    "What is a brute force attack in encryption?\n",
    "\n",
    "A brute force attack is when an attacker who does not know the decryption key attempts to determine the key by making millions or billions of guesses. Brute force attacks are much faster with modern computers, which is why encryption has to be extremely strong and complex. Most modern encryption methods, coupled with high-quality passwords, are resistant to brute force attacks, although they may become vulnerable to such attacks in the future as computers become more and more powerful. Weak passwords are still susceptible to brute force attacks.\n",
    "How is encryption used to keep Internet browsing secure?\n",
    "\n",
    "Encryption is foundational for a variety of technologies, but it is especially important for keeping HTTP requests and responses secure, and for authenticating website origin servers. The protocol responsible for this is called HTTPS (Hypertext Transfer Protocol Secure). A website served over HTTPS instead of HTTP will have a URL that begins with https:// instead of http://, usually represented by a secured lock in the address bar.\n",
    "\n",
    "HTTPS uses the encryption protocol called Transport Layer Security (TLS). In the past, an earlier encryption protocol called Secure Sockets Layer (SSL) was the standard, but TLS has replaced SSL. A website that implements HTTPS will have a TLS certificate installed on its origin server. Learn more about TLS and HTTPS.\n",
    "\n",
    "To help keep the Internet more secure, Cloudflare offers free TLS/SSL encryption for any websites using Cloudflare services. Learn more about Universal SSL from Cloudflare.\"\"\""
   ]
  },
  {
   "cell_type": "code",
   "execution_count": 36,
   "id": "9d7178ae",
   "metadata": {},
   "outputs": [],
   "source": [
    "examples  ={\n",
    "    \"os\": os,\n",
    "    \"security\": security\n",
    "}"
   ]
  },
  {
   "cell_type": "markdown",
   "id": "4e473c2b",
   "metadata": {},
   "source": [
    "Изпробване на моделите върху примери"
   ]
  },
  {
   "cell_type": "code",
   "execution_count": 37,
   "id": "be9528ff",
   "metadata": {},
   "outputs": [
    {
     "name": "stdout",
     "output_type": "stream",
     "text": [
      "\tReal\tPredicted\n",
      "________________________________________\n",
      "DummyClassifier\n",
      "\tos - network\n",
      "\tsecurity - network\n",
      "MultinomialNB\n",
      "\tos - os\n",
      "\tsecurity - network\n",
      "SVC\n",
      "\tos - os\n",
      "\tsecurity - programming\n",
      "LogisticRegression\n",
      "\tos - os\n",
      "\tsecurity - programming\n"
     ]
    }
   ],
   "source": [
    "print(\"\\tReal\\tPredicted\")\n",
    "print(\"_\"*40)\n",
    "\n",
    "for pred in final_clfs:\n",
    "    model_name = str(pred[-1])\n",
    "    model_name = model_name[0: model_name.index('(')]                \n",
    "    print(str(model_name))\n",
    "    for example in examples.items():\n",
    "       \n",
    "        predict = pred.predict([example[1]])\n",
    "        print(\"\\t\" + example[0] + \" - \" + id_to_class[predict[0]])\n"
   ]
  },
  {
   "cell_type": "code",
   "execution_count": null,
   "id": "6514cd19",
   "metadata": {},
   "outputs": [],
   "source": []
  },
  {
   "cell_type": "code",
   "execution_count": null,
   "id": "4578224a",
   "metadata": {},
   "outputs": [],
   "source": []
  }
 ],
 "metadata": {
  "kernelspec": {
   "display_name": "Python 3 (ipykernel)",
   "language": "python",
   "name": "python3"
  },
  "language_info": {
   "codemirror_mode": {
    "name": "ipython",
    "version": 3
   },
   "file_extension": ".py",
   "mimetype": "text/x-python",
   "name": "python",
   "nbconvert_exporter": "python",
   "pygments_lexer": "ipython3",
   "version": "3.10.4"
  }
 },
 "nbformat": 4,
 "nbformat_minor": 5
}
